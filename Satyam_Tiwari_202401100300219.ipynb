{
  "nbformat": 4,
  "nbformat_minor": 0,
  "metadata": {
    "colab": {
      "provenance": []
    },
    "kernelspec": {
      "name": "python3",
      "display_name": "Python 3"
    },
    "language_info": {
      "name": "python"
    }
  },
  "cells": [
    {
      "cell_type": "code",
      "execution_count": 2,
      "metadata": {
        "colab": {
          "base_uri": "https://localhost:8080/"
        },
        "id": "9IfX4RiXhV-t",
        "outputId": "5b03d647-9966-409e-e5cb-410400563763"
      },
      "outputs": [
        {
          "output_type": "stream",
          "name": "stdout",
          "text": [
            "5 3 4 6 7 8 9 1 2\n",
            "6 7 2 1 9 5 3 4 8\n",
            "1 9 8 3 4 2 5 6 7\n",
            "8 5 9 7 6 1 4 2 3\n",
            "4 2 6 8 5 3 7 9 1\n",
            "7 1 3 9 2 4 8 5 6\n",
            "9 6 1 5 3 7 2 8 4\n",
            "2 8 7 4 1 9 6 3 5\n",
            "3 4 5 2 8 6 1 7 9\n"
          ]
        }
      ],
      "source": [
        "def is_valid(board, row, col, num):\n",
        "    \"\"\"\n",
        "    Checks whether placing 'num' in board[row][col] is valid.\n",
        "    \"\"\"\n",
        "    # Check if 'num' is already in the row or column\n",
        "    for i in range(9):\n",
        "        if board[row][i] == num or board[i][col] == num:\n",
        "            return False\n",
        "\n",
        "    # Check if 'num' is in the 3x3 subgrid\n",
        "    start_row, start_col = 3 * (row // 3), 3 * (col // 3)\n",
        "    for i in range(3):\n",
        "        for j in range(3):\n",
        "            if board[start_row + i][start_col + j] == num:\n",
        "                return False\n",
        "\n",
        "    return True\n",
        "\n",
        "def solve_sudoku(board):\n",
        "    \"\"\"\n",
        "    Solves the Sudoku puzzle using backtracking.\n",
        "    \"\"\"\n",
        "    for row in range(9):\n",
        "        for col in range(9):\n",
        "            # Find an empty cell (represented by 0)\n",
        "            if board[row][col] == 0:\n",
        "                # Try numbers 1 to 9\n",
        "                for num in range(1, 10):\n",
        "                    if is_valid(board, row, col, num):\n",
        "                        board[row][col] = num  # Place the number\n",
        "\n",
        "                        # Recursively attempt to solve the rest of the board\n",
        "                        if solve_sudoku(board):\n",
        "                            return True\n",
        "\n",
        "                        # If placing 'num' doesn't lead to a solution, reset cell\n",
        "                        board[row][col] = 0\n",
        "\n",
        "                # No valid number found, trigger backtracking\n",
        "                return False\n",
        "    return True  # Puzzle solved\n",
        "\n",
        "def print_board(board):\n",
        "    \"\"\"\n",
        "    Prints the Sudoku board in a readable format.\n",
        "    \"\"\"\n",
        "    for row in board:\n",
        "        print(\" \".join(str(num) if num != 0 else '.' for num in row))\n",
        "\n",
        "# Example usage:\n",
        "sudoku_board = [\n",
        "    [5, 3, 0, 0, 7, 0, 0, 0, 0],\n",
        "    [6, 0, 0, 1, 9, 5, 0, 0, 0],\n",
        "    [0, 9, 8, 0, 0, 0, 0, 6, 0],\n",
        "    [8, 0, 0, 0, 6, 0, 0, 0, 3],\n",
        "    [4, 0, 0, 8, 0, 3, 0, 0, 1],\n",
        "    [7, 0, 0, 0, 2, 0, 0, 0, 6],\n",
        "    [0, 6, 0, 0, 0, 0, 2, 8, 0],\n",
        "    [0, 0, 0, 4, 1, 9, 0, 0, 5],\n",
        "    [0, 0, 0, 0, 8, 0, 0, 7, 9]\n",
        "]\n",
        "\n",
        "# Solve the puzzle and print the solution\n",
        "if solve_sudoku(sudoku_board):\n",
        "    print_board(sudoku_board)\n",
        "else:\n",
        "    print(\"No solution exists\")\n"
      ]
    }
  ]
}